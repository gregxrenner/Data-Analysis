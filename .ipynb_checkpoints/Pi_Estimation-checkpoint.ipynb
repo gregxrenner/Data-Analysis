{
 "cells": [
  {
   "cell_type": "markdown",
   "metadata": {},
   "source": [
    "# Let's estimate pi."
   ]
  },
  {
   "cell_type": "markdown",
   "metadata": {},
   "source": [
    "## First let's try python. "
   ]
  },
  {
   "cell_type": "markdown",
   "metadata": {},
   "source": [
    "### If we inscribe a circle of radius 1 within a square 1 unit long and 1 unit wide and randomly draw points uniformly between [-1,1] we will see a ratio of pi-to-1 points within the circle compared to outside the circle."
   ]
  },
  {
   "cell_type": "markdown",
   "metadata": {},
   "source": [
    "Given:\n",
    "A_square = 2r * 2r = 4r^2\n",
    "A_circle = pi * r^2\n",
    "The ratio of points inside the circle to points outside the circle should be:\n",
    "A_circle/A_square = (pi * r^2) / (4 * r^2) = pi/4"
   ]
  },
  {
   "cell_type": "code",
   "execution_count": 1,
   "metadata": {},
   "outputs": [
    {
     "data": {
      "image/png": "[encoded data removed]",
      "text/plain": [
       "<matplotlib.figure.Figure at 0x58176a0>"
      ]
     },
     "metadata": {},
     "output_type": "display_data"
    }
   ],
   "source": [
    "import matplotlib.pyplot as plt\n",
    "import numpy as np\n",
    "\n",
    "num_samples = 100\n",
    "\n",
    "# create the circle\n",
    "circle = plt.Circle((0,0),1, color='b', fill=False)\n",
    "plt.gcf().gca().add_artist(circle)\n",
    "\n",
    "# set the axis\n",
    "ax = plt.gca()\n",
    "ax.cla() # clear the axis of any presets\n",
    "ax.set_xlim((-1,1))\n",
    "ax.set_ylim((-1,1))\n",
    "\n",
    "ax.add_artist(circle)\n",
    "\n",
    "plt.show()"
   ]
  },
  {
   "cell_type": "code",
   "execution_count": null,
   "metadata": {
    "collapsed": true
   },
   "outputs": [],
   "source": []
  }
 ],
 "metadata": {
  "kernelspec": {
   "display_name": "Python 2",
   "language": "python",
   "name": "python2"
  },
  "language_info": {
   "codemirror_mode": {
    "name": "ipython",
    "version": 2
   },
   "file_extension": ".py",
   "mimetype": "text/x-python",
   "name": "python",
   "nbconvert_exporter": "python",
   "pygments_lexer": "ipython2",
   "version": "2.7.13"
  }
 },
 "nbformat": 4,
 "nbformat_minor": 2
}
