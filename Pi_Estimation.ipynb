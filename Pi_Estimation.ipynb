{
 "cells": [
  {
   "cell_type": "markdown",
   "metadata": {},
   "source": [
    "# Let's estimate $\\pi$."
   ]
  },
  {
   "cell_type": "markdown",
   "metadata": {},
   "source": [
    "### If we inscribe a circle of radius 1 within a square of length 2 and randomly draw points uniformly we will see $\\frac{\\pi}{4}$ of the points within the square also within the circle. In other words, $\\frac{\\pi}{4}$ of the total points drawn will lie inside the circle."
   ]
  },
  {
   "cell_type": "markdown",
   "metadata": {},
   "source": [
    "Given:\n",
    "$$\n",
    "\\begin{align}\n",
    "A_{square} &= 2r * 2r = 4r^2\\\\\n",
    "A_{circle} &= \\pi r^2\n",
    "\\end{align}$$\n",
    "\n",
    "The ratio of points inside the circle to points inside the square should be:\n",
    "\n",
    "$$\\frac{A_{circle}}{A_{square}} = \\frac{\\pi r^2}{4 r^2} = \\frac{\\pi}{4}$$"
   ]
  },
  {
   "cell_type": "code",
   "execution_count": 2,
   "metadata": {
    "collapsed": true
   },
   "outputs": [],
   "source": [
    "import matplotlib.pyplot as plt\n",
    "import numpy as np\n",
    "import math\n",
    "np.random.seed(2013)"
   ]
  },
  {
   "cell_type": "markdown",
   "metadata": {},
   "source": [
    "### Uniformly sample points in the domain $[-1,1]^2$"
   ]
  },
  {
   "cell_type": "code",
   "execution_count": 3,
   "metadata": {},
   "outputs": [],
   "source": [
    "num_samples = 100000\n",
    "\n",
    "points = np.random.uniform(-1, 1, (num_samples,2))"
   ]
  },
  {
   "cell_type": "markdown",
   "metadata": {},
   "source": [
    "### Classify points as inside or outside the circle. Any points less than 1 unit of distance from the center of the square are within the circle. In other words, if $\\sqrt{x^2+y^2}<1$ then the point lies within the circle."
   ]
  },
  {
   "cell_type": "code",
   "execution_count": 4,
   "metadata": {},
   "outputs": [
    {
     "data": {
      "image/png": "[encoded data removed]",
      "text/plain": [
       "<matplotlib.figure.Figure at 0x7b11cc0>"
      ]
     },
     "metadata": {},
     "output_type": "display_data"
    }
   ],
   "source": [
    "def insideCircle(element):\n",
    "    return bool((math.sqrt(element[0]**2 + element[1]**2)) < 1)\n",
    "\n",
    "def outsideCircle(element):\n",
    "    return bool((math.sqrt(element[0]**2 + element[1]**2)) >= 1)\n",
    "\n",
    "inside_points = filter(insideCircle, points)\n",
    "outside_points = filter(outsideCircle, points)\n",
    "\n",
    "plt.scatter(*zip(*inside_points), marker='^')\n",
    "plt.scatter(*zip(*outside_points), marker='o')\n",
    "\n",
    "plt.axis([-1, 1, -1, 1])\n",
    "\n",
    "plt.show()"
   ]
  },
  {
   "cell_type": "markdown",
   "metadata": {
    "collapsed": true
   },
   "source": [
    "## The proportion of points inside the circle relative to the total number of points is our estimate of $\\frac{\\pi}{4}$. "
   ]
  },
  {
   "cell_type": "code",
   "execution_count": 5,
   "metadata": {},
   "outputs": [
    {
     "name": "stdout",
     "output_type": "stream",
     "text": [
      "The value of PI is approximately 3.140.\n"
     ]
    }
   ],
   "source": [
    "# count the points that are inside the circle\n",
    "num_inside_points = len(inside_points)\n",
    "\n",
    "pi=(float(num_inside_points)/num_samples) * 4\n",
    "\n",
    "print 'The value of PI is approximately %5.3f.' % pi"
   ]
  },
  {
   "cell_type": "code",
   "execution_count": null,
   "metadata": {
    "collapsed": true
   },
   "outputs": [],
   "source": []
  }
 ],
 "metadata": {
  "kernelspec": {
   "display_name": "Python 2",
   "language": "python",
   "name": "python2"
  },
  "language_info": {
   "codemirror_mode": {
    "name": "ipython",
    "version": 2
   },
   "file_extension": ".py",
   "mimetype": "text/x-python",
   "name": "python",
   "nbconvert_exporter": "python",
   "pygments_lexer": "ipython2",
   "version": "2.7.13"
  }
 },
 "nbformat": 4,
 "nbformat_minor": 2
}
